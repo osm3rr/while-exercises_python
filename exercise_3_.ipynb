{
 "cells": [
  {
   "cell_type": "markdown",
   "metadata": {},
   "source": [
    "# Exercise 3\n",
    "\n",
    "A good program will make sure that the data its users enter is valid. Write a program that\n",
    "asks the user for a weight and converts it from kilograms to grams. Whenever the user\n",
    "enters a weight below 0, the program should tell them that their entry is invalid and \n",
    "then ask them again to enter a weight. [Hint: Use a while loop, not an if statement].\n"
   ]
  },
  {
   "cell_type": "code",
   "execution_count": 2,
   "metadata": {},
   "outputs": [
    {
     "name": "stdout",
     "output_type": "stream",
     "text": [
      "2.0 kg => 2000.0 gr\n"
     ]
    }
   ],
   "source": [
    "weight_kg = float( input('Entry a weight: ') )\n",
    "\n",
    "# Convertion constant kg to gr\n",
    "KG_TO_GR = 1000\n",
    "\n",
    "while weight_kg < 0:\n",
    "    print('Invalid')\n",
    "    weight_kg = float( input('Entry a weight: ') )\n",
    "else:\n",
    "    weight_gr = weight_kg * KG_TO_GR\n",
    "    print( f'{weight_kg} kg => {weight_gr} gr' )\n",
    "\n",
    "# Nota"
   ]
  }
 ],
 "metadata": {
  "interpreter": {
   "hash": "3313d7862e35f23cb796a0d5e1a05f5386948db6518b51457360428deb8d3fb3"
  },
  "kernelspec": {
   "display_name": "Python 3.8.3 64-bit ('base': conda)",
   "language": "python",
   "name": "python3"
  },
  "language_info": {
   "codemirror_mode": {
    "name": "ipython",
    "version": 3
   },
   "file_extension": ".py",
   "mimetype": "text/x-python",
   "name": "python",
   "nbconvert_exporter": "python",
   "pygments_lexer": "ipython3",
   "version": "3.8.3"
  },
  "orig_nbformat": 4
 },
 "nbformat": 4,
 "nbformat_minor": 2
}
