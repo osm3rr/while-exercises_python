{
 "cells": [
  {
   "cell_type": "markdown",
   "metadata": {},
   "source": [
    "# Exercise 4\n",
    "Write a program that asks the user to enter a password. If the user enters the right password,\n",
    "the program should tell them they are logged in to the system. Otherwise, the program\n",
    "should ask them to reenter the password. The user should only get five tries to enter the\n",
    "password, after which point the program should tell them that they are kicked off of the\n",
    "system."
   ]
  },
  {
   "cell_type": "code",
   "execution_count": 9,
   "metadata": {},
   "outputs": [
    {
     "name": "stdout",
     "output_type": "stream",
     "text": [
      "you did it!\n"
     ]
    }
   ],
   "source": [
    "# Solution\n",
    "\n",
    "count_n = 0\n",
    "password_saved = '123'\n",
    "\n",
    "password_in = input( 'Enter a password: ' )\n",
    "\n",
    "while ( password_in != password_saved ) and ( count_n < 5 ):\n",
    "    count_n += 1\n",
    "    password_in = input( 'Enter a password: ' )\n",
    "    \n",
    "    \n",
    "if (password_in == password_saved):\n",
    "    print( \"you did it!\" )\n",
    "    \n",
    "\n",
    "else:\n",
    "    print( \"Maximum quantity exceeded\" )\n",
    "    print( count_n )"
   ]
  }
 ],
 "metadata": {
  "interpreter": {
   "hash": "3313d7862e35f23cb796a0d5e1a05f5386948db6518b51457360428deb8d3fb3"
  },
  "kernelspec": {
   "display_name": "Python 3.8.3 64-bit ('base': conda)",
   "language": "python",
   "name": "python3"
  },
  "language_info": {
   "codemirror_mode": {
    "name": "ipython",
    "version": 3
   },
   "file_extension": ".py",
   "mimetype": "text/x-python",
   "name": "python",
   "nbconvert_exporter": "python",
   "pygments_lexer": "ipython3",
   "version": "3.8.3"
  },
  "orig_nbformat": 4
 },
 "nbformat": 4,
 "nbformat_minor": 2
}
