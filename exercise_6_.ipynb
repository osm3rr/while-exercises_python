{
 "cells": [
  {
   "cell_type": "markdown",
   "metadata": {},
   "source": [
    "# Exercise 6\n",
    "Recall that, given a string s , s.index( ' x ' ) returns the index of the first x in s and an error\n",
    "if there is no x.\n",
    "* (a) Write a program that asks the user for a string and a letter. Using a while loop, the\n",
    "program should print the index of the first occurrence of that letter and a message if the\n",
    "string does not contain the letter.\n",
    "* (b) Write the above program using a for/break loop instead of a while loop."
   ]
  },
  {
   "cell_type": "code",
   "execution_count": 2,
   "metadata": {},
   "outputs": [
    {
     "name": "stdout",
     "output_type": "stream",
     "text": [
      "perro\n",
      "The letter \"o\" is in the index \"4\"\n"
     ]
    }
   ],
   "source": [
    "# Solution a\n",
    "\n",
    "input_string = input( \"Enter a string: \" )\n",
    "\n",
    "input_letter = input( \"Enter a letter: \" )\n",
    "\n",
    "print( input_string )\n",
    "\n",
    "len_string = len( input_string )\n",
    "count_c = 0\n",
    "\n",
    "while count_c < len_string:\n",
    "    if input_letter == input_string[count_c]:\n",
    "        print( f'The letter \"{input_letter}\" is in the index \"{count_c}\"' )\n",
    "        break\n",
    "        \n",
    "    else:\n",
    "        count_c +=1\n",
    "\n",
    "if count_c == len_string:\n",
    "    print( f'The \"{input_letter}\" is not in \"{input_string}\"' )"
   ]
  },
  {
   "cell_type": "code",
   "execution_count": 4,
   "metadata": {},
   "outputs": [
    {
     "name": "stdout",
     "output_type": "stream",
     "text": [
      "hola\n",
      "The \"q\" is not in \"hola\"\n"
     ]
    }
   ],
   "source": [
    "# solution b\n",
    "input_string = input( \"Enter a string: \" )\n",
    "\n",
    "input_letter = input( \"Enter a letter: \" )\n",
    "\n",
    "print( input_string )\n",
    "\n",
    "len_string = len( input_string )\n",
    "count_c = 0\n",
    "\n",
    "for c in range(len_string):\n",
    "    if input_letter == input_string[count_c]:\n",
    "        print( f'The letter \"{input_letter}\" is in the index \"{count_c}\"' )\n",
    "        break\n",
    "        \n",
    "    else:\n",
    "        count_c +=1\n",
    "\n",
    "if count_c == len_string:\n",
    "    print( f'The \"{input_letter}\" is not in \"{input_string}\"' )"
   ]
  }
 ],
 "metadata": {
  "interpreter": {
   "hash": "3313d7862e35f23cb796a0d5e1a05f5386948db6518b51457360428deb8d3fb3"
  },
  "kernelspec": {
   "display_name": "Python 3.8.3 64-bit ('base': conda)",
   "language": "python",
   "name": "python3"
  },
  "language_info": {
   "codemirror_mode": {
    "name": "ipython",
    "version": 3
   },
   "file_extension": ".py",
   "mimetype": "text/x-python",
   "name": "python",
   "nbconvert_exporter": "python",
   "pygments_lexer": "ipython3",
   "version": "3.8.3"
  },
  "orig_nbformat": 4
 },
 "nbformat": 4,
 "nbformat_minor": 2
}
