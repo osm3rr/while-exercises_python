{
 "cells": [
  {
   "cell_type": "markdown",
   "metadata": {},
   "source": [
    "# Exercise 5\n",
    "Write a program that allows the user to enter any number of test scores. The user indicates\n",
    "they are done by entering in a negative number. Print how many of the scores are A’s (90 or\n",
    "above). Also print out the average."
   ]
  },
  {
   "cell_type": "code",
   "execution_count": 1,
   "metadata": {},
   "outputs": [
    {
     "name": "stdout",
     "output_type": "stream",
     "text": [
      " 2 scores with \"A\"\n",
      "The average is 35.57\n"
     ]
    }
   ],
   "source": [
    "# solution\n",
    "test_score = int( input( \"Enter a number: \" ) )\n",
    "\n",
    "score_numbers = []\n",
    "score_count = 0\n",
    "\n",
    "while test_score > 0:\n",
    "    score_count += 1\n",
    "    score_numbers.append( test_score )\n",
    "    test_score = int( input( \"Enter a number: \" ) )\n",
    "\n",
    "hight_score = 0\n",
    "for score in range( score_count ):\n",
    "    if score_numbers[score] >= 90:\n",
    "        hight_score += 1\n",
    "    \n",
    "average = sum( score_numbers ) / score_count\n",
    "average = round( average, 2 )\n",
    "\n",
    "if hight_score >= 1:\n",
    "    print( f' {hight_score} scores with \"A\"' )\n",
    "    \n",
    "print( f'The average is {average}' )\n",
    "    "
   ]
  }
 ],
 "metadata": {
  "interpreter": {
   "hash": "3313d7862e35f23cb796a0d5e1a05f5386948db6518b51457360428deb8d3fb3"
  },
  "kernelspec": {
   "display_name": "Python 3.8.3 64-bit ('base': conda)",
   "language": "python",
   "name": "python3"
  },
  "language_info": {
   "codemirror_mode": {
    "name": "ipython",
    "version": 3
   },
   "file_extension": ".py",
   "mimetype": "text/x-python",
   "name": "python",
   "nbconvert_exporter": "python",
   "pygments_lexer": "ipython3",
   "version": "3.8.3"
  },
  "orig_nbformat": 4
 },
 "nbformat": 4,
 "nbformat_minor": 2
}
