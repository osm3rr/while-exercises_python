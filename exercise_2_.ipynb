{
 "cells": [
  {
   "cell_type": "markdown",
   "metadata": {},
   "source": [
    "# Exercise 2\n",
    "\n",
    "* 2.(a) Write a program that uses a while loop (not a for loop) to read \n",
    "through a string and print the characters of the string one-by-one\n",
    "on separate lines.\n",
    "* (b) Modify the program above to print out every second character of the string.\n"
   ]
  },
  {
   "cell_type": "code",
   "execution_count": 1,
   "metadata": {},
   "outputs": [
    {
     "name": "stdout",
     "output_type": "stream",
     "text": [
      "2\n",
      "0\n"
     ]
    }
   ],
   "source": [
    "# Solution a\n",
    "string_in = input( 'Entry a string: ' )\n",
    "\n",
    "string_long = len(string_in)\n",
    "count = 0\n",
    "\n",
    "# Solution a\n",
    "while (string_long != 0):\n",
    "    print(string_in[count])\n",
    "    string_long -= 1\n",
    "    count += 1\n"
   ]
  },
  {
   "cell_type": "code",
   "execution_count": 7,
   "metadata": {},
   "outputs": [
    {
     "name": "stdout",
     "output_type": "stream",
     "text": [
      "3\n",
      "5\n",
      "7\n",
      "9\n"
     ]
    }
   ],
   "source": [
    "# Solution b\n",
    "\n",
    "string_in = input( 'Entry a string: ' )\n",
    "\n",
    "string_long = len(string_in)\n",
    "count = 0\n",
    "\n",
    "while ( string_long != 0 ) and ( count <= string_long ):\n",
    "    count += 2\n",
    "    print(string_in[count])\n",
    "    string_long -= 1\n",
    "    \n"
   ]
  }
 ],
 "metadata": {
  "interpreter": {
   "hash": "3313d7862e35f23cb796a0d5e1a05f5386948db6518b51457360428deb8d3fb3"
  },
  "kernelspec": {
   "display_name": "Python 3.8.3 64-bit ('base': conda)",
   "language": "python",
   "name": "python3"
  },
  "language_info": {
   "codemirror_mode": {
    "name": "ipython",
    "version": 3
   },
   "file_extension": ".py",
   "mimetype": "text/x-python",
   "name": "python",
   "nbconvert_exporter": "python",
   "pygments_lexer": "ipython3",
   "version": "3.8.3"
  },
  "orig_nbformat": 4
 },
 "nbformat": 4,
 "nbformat_minor": 2
}
