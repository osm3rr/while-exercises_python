{
 "cells": [
  {
   "cell_type": "markdown",
   "metadata": {},
   "source": [
    "# Exercise 9\n",
    "Write a program to play the following simple game. The player starts with $100. On each\n",
    "turn a coin is flipped and the player has to guess heads or tails. The player wins $9 for each\n",
    "correct guess and loses $10 for each incorrect guess. The game ends either when the player\n",
    "runs out of money or gets to $200."
   ]
  },
  {
   "cell_type": "code",
   "execution_count": 6,
   "metadata": {},
   "outputs": [
    {
     "name": "stdout",
     "output_type": "stream",
     "text": [
      "tails 90\n",
      "tails 80\n",
      "tails 70\n",
      "head 79\n",
      "tails 69\n",
      "head 78\n",
      "head 87\n",
      "tails 77\n",
      "head 86\n",
      "head 95\n",
      "tails 85\n",
      "tails 75\n",
      "head 84\n",
      "head 74\n",
      "tails 64\n",
      "tails 54\n",
      "head 44\n",
      "tails 34\n",
      "tails 24\n",
      "tails 14\n",
      "head 4\n",
      "tails -6\n",
      "Player money: -6\n"
     ]
    }
   ],
   "source": [
    "# Solution\n",
    "from random import choice\n",
    "\n",
    "player_money = 100\n",
    "\n",
    "coin = [ 'head', 'tails' ]\n",
    "\n",
    "while ( player_money > 0 ) and (player_money < 200):\n",
    "    guess_player = input(\"Select an option [head, tails]: \")\n",
    "    \n",
    "    randon_coin = choice( coin )\n",
    "    \n",
    "    if guess_player == randon_coin:\n",
    "        player_money += 9\n",
    "    else:\n",
    "        player_money -= 10    \n",
    "    \n",
    "    # for teaching purposes\n",
    "    print( randon_coin, player_money )\n",
    "\n",
    "print( f'Player money: {player_money}' )\n",
    "\n"
   ]
  }
 ],
 "metadata": {
  "interpreter": {
   "hash": "3313d7862e35f23cb796a0d5e1a05f5386948db6518b51457360428deb8d3fb3"
  },
  "kernelspec": {
   "display_name": "Python 3.8.3 64-bit ('base': conda)",
   "language": "python",
   "name": "python3"
  },
  "language_info": {
   "codemirror_mode": {
    "name": "ipython",
    "version": 3
   },
   "file_extension": ".py",
   "mimetype": "text/x-python",
   "name": "python",
   "nbconvert_exporter": "python",
   "pygments_lexer": "ipython3",
   "version": "3.8.3"
  },
  "orig_nbformat": 4
 },
 "nbformat": 4,
 "nbformat_minor": 2
}
