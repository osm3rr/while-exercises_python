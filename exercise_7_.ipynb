{
 "cells": [
  {
   "cell_type": "markdown",
   "metadata": {},
   "source": [
    "# Exercise 7\n",
    "The GCD (greatest common divisor) of two numbers is the largest number that both are di-\n",
    "visible by. For instance, gcd (18, 42) is 6 because the largest number that both 18 and 42 are\n",
    "divisible by is 6. Write a program that asks the user for two numbers and computes their gcd.\n",
    "Shown below is a way to compute the GCD, called Euclid’s Algorithm.\n",
    "* First compute the remainder of dividing the larger number by the smaller number\n",
    "* Next, replace the larger number with the smaller number and the smaller number with\n",
    "the remainder.\n",
    "* Repeat this process until the smaller number is 0. The GCD is the last value of the larger\n",
    "number."
   ]
  },
  {
   "cell_type": "code",
   "execution_count": null,
   "metadata": {},
   "outputs": [],
   "source": [
    "# Solution\n"
   ]
  }
 ],
 "metadata": {
  "interpreter": {
   "hash": "3313d7862e35f23cb796a0d5e1a05f5386948db6518b51457360428deb8d3fb3"
  },
  "kernelspec": {
   "display_name": "Python 3.8.3 64-bit ('base': conda)",
   "language": "python",
   "name": "python3"
  },
  "language_info": {
   "name": "python",
   "version": "3.8.3"
  },
  "orig_nbformat": 4
 },
 "nbformat": 4,
 "nbformat_minor": 2
}
